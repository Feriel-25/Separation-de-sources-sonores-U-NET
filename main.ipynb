{
 "cells": [
  {
   "cell_type": "code",
   "execution_count": 2,
   "metadata": {},
   "outputs": [],
   "source": [
    "import musdb"
   ]
  },
  {
   "cell_type": "code",
   "execution_count": 22,
   "metadata": {},
   "outputs": [],
   "source": [
    "mus = musdb.DB(root=\"C://Users//ferie//MUSDB18//MUSDB18-7\")"
   ]
  },
  {
   "cell_type": "code",
   "execution_count": 23,
   "metadata": {},
   "outputs": [
    {
     "data": {
      "text/plain": [
       "array([[-8.84704590e-02, -3.79333496e-02],\n",
       "       [-1.07421875e-01, -5.22460938e-02],\n",
       "       [-8.42590332e-02, -5.48400879e-02],\n",
       "       ...,\n",
       "       [-8.23974609e-04,  3.05175781e-05],\n",
       "       [-8.54492188e-04,  7.01904297e-04],\n",
       "       [-8.54492188e-04,  1.31225586e-03]])"
      ]
     },
     "execution_count": 23,
     "metadata": {},
     "output_type": "execute_result"
    }
   ],
   "source": [
    "mus[0].audio"
   ]
  },
  {
   "cell_type": "code",
   "execution_count": 24,
   "metadata": {},
   "outputs": [
    {
     "ename": "NameError",
     "evalue": "name 'train' is not defined",
     "output_type": "error",
     "traceback": [
      "\u001b[1;31m---------------------------------------------------------------------------\u001b[0m",
      "\u001b[1;31mNameError\u001b[0m                                 Traceback (most recent call last)",
      "Cell \u001b[1;32mIn[24], line 2\u001b[0m\n\u001b[0;32m      1\u001b[0m \u001b[38;5;28;01mfor\u001b[39;00m track \u001b[38;5;129;01min\u001b[39;00m mus:\n\u001b[1;32m----> 2\u001b[0m     train(track\u001b[38;5;241m.\u001b[39maudio, track\u001b[38;5;241m.\u001b[39mtargets[\u001b[38;5;124m'\u001b[39m\u001b[38;5;124mvocals\u001b[39m\u001b[38;5;124m'\u001b[39m]\u001b[38;5;241m.\u001b[39maudio)\n",
      "\u001b[1;31mNameError\u001b[0m: name 'train' is not defined"
     ]
    }
   ],
   "source": [
    "for track in mus:\n",
    "    train(track.audio, track.targets['vocals'].audio)"
   ]
  },
  {
   "cell_type": "code",
   "execution_count": 21,
   "metadata": {},
   "outputs": [
    {
     "data": {
      "text/plain": [
       "[]"
      ]
     },
     "execution_count": 21,
     "metadata": {},
     "output_type": "execute_result"
    }
   ],
   "source": [
    "mus.tracks"
   ]
  },
  {
   "cell_type": "code",
   "execution_count": null,
   "metadata": {},
   "outputs": [],
   "source": [
    "while True:\n",
    "    track = random.choice(mus.tracks)\n",
    "    track.chunk_duration = 5.0\n",
    "    track.chunk_start = random.uniform(0, track.duration - track.chunk_duration)\n",
    "    x = track.audio.T\n",
    "    y = track.targets['vocals'].audio.T\n",
    "    yield x, y"
   ]
  }
 ],
 "metadata": {
  "kernelspec": {
   "display_name": "ISI",
   "language": "python",
   "name": "python3"
  },
  "language_info": {
   "codemirror_mode": {
    "name": "ipython",
    "version": 3
   },
   "file_extension": ".py",
   "mimetype": "text/x-python",
   "name": "python",
   "nbconvert_exporter": "python",
   "pygments_lexer": "ipython3",
   "version": "3.11.5"
  }
 },
 "nbformat": 4,
 "nbformat_minor": 2
}
