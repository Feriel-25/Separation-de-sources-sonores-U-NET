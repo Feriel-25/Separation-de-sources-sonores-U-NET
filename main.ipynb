{
 "cells": [
  {
   "cell_type": "code",
   "execution_count": 2,
   "metadata": {},
   "outputs": [
    {
     "name": "stdout",
     "output_type": "stream",
     "text": [
      "Collecting musdb\n",
      "  Using cached musdb-0.4.2-py2.py3-none-any.whl (13 kB)\n",
      "Requirement already satisfied: numpy>=1.7 in c:\\users\\linda\\anaconda3\\lib\\site-packages (from musdb) (1.24.3)\n",
      "Collecting stempeg>=0.2.3 (from musdb)\n",
      "  Using cached stempeg-0.2.3-py3-none-any.whl (963 kB)\n",
      "Collecting pyaml (from musdb)\n",
      "  Using cached pyaml-23.9.7-py3-none-any.whl (23 kB)\n",
      "Requirement already satisfied: tqdm in c:\\users\\linda\\anaconda3\\lib\\site-packages (from musdb) (4.65.0)\n",
      "Collecting ffmpeg-python>=0.2.0 (from stempeg>=0.2.3->musdb)\n",
      "  Using cached ffmpeg_python-0.2.0-py3-none-any.whl (25 kB)\n",
      "Requirement already satisfied: PyYAML in c:\\users\\linda\\anaconda3\\lib\\site-packages (from pyaml->musdb) (6.0)\n",
      "Requirement already satisfied: colorama in c:\\users\\linda\\anaconda3\\lib\\site-packages (from tqdm->musdb) (0.4.6)\n",
      "Requirement already satisfied: future in c:\\users\\linda\\anaconda3\\lib\\site-packages (from ffmpeg-python>=0.2.0->stempeg>=0.2.3->musdb) (0.18.3)\n",
      "Installing collected packages: pyaml, ffmpeg-python, stempeg, musdb\n",
      "  Attempting uninstall: stempeg\n",
      "    Found existing installation: stempeg 0.1.8\n",
      "    Uninstalling stempeg-0.1.8:\n",
      "      Successfully uninstalled stempeg-0.1.8\n",
      "Successfully installed ffmpeg-python-0.2.0 musdb-0.4.2 pyaml-23.9.7 stempeg-0.2.3\n"
     ]
    }
   ],
   "source": [
    "!pip install musdb"
   ]
  },
  {
   "cell_type": "code",
   "execution_count": 3,
   "metadata": {},
   "outputs": [],
   "source": [
    "import musdb"
   ]
  },
  {
   "cell_type": "code",
   "execution_count": 4,
   "metadata": {},
   "outputs": [
    {
     "name": "stdout",
     "output_type": "stream",
     "text": [
      "Downloading MUSDB 7s Sample Dataset to C:\\Users\\ferie/MUSDB18/MUSDB18-7...\n"
     ]
    },
    {
     "name": "stderr",
     "output_type": "stream",
     "text": [
      "100%|██████████| 140M/140M [12:45<00:00, 192kB/s]    \n"
     ]
    }
   ],
   "source": [
    "mus = musdb.DB(download=True)"
   ]
  },
  {
   "cell_type": "code",
   "execution_count": null,
   "metadata": {},
   "outputs": [],
   "source": [
    "mus[0].audio"
   ]
  }
 ],
 "metadata": {
  "kernelspec": {
   "display_name": "ISI",
   "language": "python",
   "name": "python3"
  },
  "language_info": {
   "codemirror_mode": {
    "name": "ipython",
    "version": 3
   },
   "file_extension": ".py",
   "mimetype": "text/x-python",
   "name": "python",
   "nbconvert_exporter": "python",
   "pygments_lexer": "ipython3",
   "version": "3.11.3"
  }
 },
 "nbformat": 4,
 "nbformat_minor": 2
}
