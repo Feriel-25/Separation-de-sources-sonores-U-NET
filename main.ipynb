{
 "cells": [
  {
   "cell_type": "code",
   "execution_count": 2,
   "metadata": {},
   "outputs": [
    {
     "name": "stdout",
     "output_type": "stream",
     "text": [
      "Collecting musdb\n",
      "  Using cached musdb-0.4.2-py2.py3-none-any.whl (13 kB)\n",
      "Requirement already satisfied: numpy>=1.7 in c:\\users\\linda\\anaconda3\\lib\\site-packages (from musdb) (1.24.3)\n",
      "Collecting stempeg>=0.2.3 (from musdb)\n",
      "  Using cached stempeg-0.2.3-py3-none-any.whl (963 kB)\n",
      "Collecting pyaml (from musdb)\n",
      "  Using cached pyaml-23.9.7-py3-none-any.whl (23 kB)\n",
      "Requirement already satisfied: tqdm in c:\\users\\linda\\anaconda3\\lib\\site-packages (from musdb) (4.65.0)\n",
      "Collecting ffmpeg-python>=0.2.0 (from stempeg>=0.2.3->musdb)\n",
      "  Using cached ffmpeg_python-0.2.0-py3-none-any.whl (25 kB)\n",
      "Requirement already satisfied: PyYAML in c:\\users\\linda\\anaconda3\\lib\\site-packages (from pyaml->musdb) (6.0)\n",
      "Requirement already satisfied: colorama in c:\\users\\linda\\anaconda3\\lib\\site-packages (from tqdm->musdb) (0.4.6)\n",
      "Requirement already satisfied: future in c:\\users\\linda\\anaconda3\\lib\\site-packages (from ffmpeg-python>=0.2.0->stempeg>=0.2.3->musdb) (0.18.3)\n",
      "Installing collected packages: pyaml, ffmpeg-python, stempeg, musdb\n",
      "  Attempting uninstall: stempeg\n",
      "    Found existing installation: stempeg 0.1.8\n",
      "    Uninstalling stempeg-0.1.8:\n",
      "      Successfully uninstalled stempeg-0.1.8\n",
      "Successfully installed ffmpeg-python-0.2.0 musdb-0.4.2 pyaml-23.9.7 stempeg-0.2.3\n"
     ]
    }
   ],
   "source": [
    "!pip install musdb"
   ]
  },
  {
   "cell_type": "code",
   "execution_count": 1,
   "metadata": {},
   "outputs": [],
   "source": [
    "import musdb"
   ]
  },
  {
   "cell_type": "code",
   "execution_count": 2,
   "metadata": {},
   "outputs": [],
   "source": [
    "import random\n",
    "import torch\n",
    "import numpy as np "
   ]
  },
  {
   "cell_type": "code",
   "execution_count": 3,
   "metadata": {},
   "outputs": [],
   "source": [
    "mus = musdb.DB(root=\"C://Users//linda//MUSDB18//MUSDB18-7\")"
   ]
  },
  {
   "cell_type": "code",
   "execution_count": 5,
   "metadata": {},
   "outputs": [
    {
     "data": {
      "text/plain": [
       "array([[-8.84704590e-02, -3.79333496e-02],\n",
       "       [-1.07421875e-01, -5.22460938e-02],\n",
       "       [-8.42590332e-02, -5.48400879e-02],\n",
       "       ...,\n",
       "       [-8.23974609e-04,  3.05175781e-05],\n",
       "       [-8.54492188e-04,  7.01904297e-04],\n",
       "       [-8.54492188e-04,  1.31225586e-03]])"
      ]
     },
     "execution_count": 5,
     "metadata": {},
     "output_type": "execute_result"
    }
   ],
   "source": [
    "mus[0].audio"
   ]
  },
  {
   "cell_type": "code",
   "execution_count": 4,
   "metadata": {},
   "outputs": [],
   "source": [
    "# Paramètres initiaux\n",
    "batch_size = 64 \n",
    "\n",
    "def generate_batches(mus,batch_size):\n",
    "    while True:\n",
    "        batch_x = []\n",
    "        batch_y = []\n",
    "\n",
    "        for _ in range(batch_size):\n",
    "            track = random.choice(mus.tracks)\n",
    "            track.chunk_duration = 5.0\n",
    "            track.chunk_start = random.uniform(0, track.duration - track.chunk_duration)\n",
    "            x = track.audio.T\n",
    "            y = track.targets['vocals'].audio.T\n",
    "\n",
    "            batch_x.append(x)\n",
    "            batch_y.append(y)\n",
    "\n",
    "        yield torch.tensor(batch_x), torch.tensor(batch_y)\n",
    "\n",
    "\n",
    "generator = generate_batches(mus,batch_size)\n"
   ]
  },
  {
   "cell_type": "code",
   "execution_count": 8,
   "metadata": {},
   "outputs": [],
   "source": []
  },
  {
   "cell_type": "code",
   "execution_count": null,
   "metadata": {},
   "outputs": [],
   "source": []
  }
 ],
 "metadata": {
  "kernelspec": {
   "display_name": "ISI",
   "language": "python",
   "name": "python3"
  },
  "language_info": {
   "codemirror_mode": {
    "name": "ipython",
    "version": 3
   },
   "file_extension": ".py",
   "mimetype": "text/x-python",
   "name": "python",
   "nbconvert_exporter": "python",
   "pygments_lexer": "ipython3",
   "version": "3.11.3"
  }
 },
 "nbformat": 4,
 "nbformat_minor": 2
}
